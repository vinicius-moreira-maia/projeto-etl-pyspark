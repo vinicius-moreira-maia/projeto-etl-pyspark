{
 "cells": [
  {
   "cell_type": "code",
   "execution_count": 12,
   "id": "4126593d",
   "metadata": {},
   "outputs": [],
   "source": [
    "import pyspark\n",
    "from pyspark.sql import SparkSession\n",
    "from pyspark.sql import functions as F\n",
    "from pyspark.sql import types\n",
    "import os\n",
    "import requests"
   ]
  },
  {
   "cell_type": "code",
   "execution_count": 13,
   "id": "0e17f009",
   "metadata": {},
   "outputs": [],
   "source": [
    "spark = SparkSession.builder \\\n",
    "    .master(\"local[*]\") \\\n",
    "    .appName('EtlScript') \\\n",
    "    .getOrCreate()"
   ]
  },
  {
   "cell_type": "code",
   "execution_count": 14,
   "id": "859ac679",
   "metadata": {},
   "outputs": [],
   "source": [
    "green_table = 'public.\"green_taxi\"'\n",
    "yellow_table = 'public.\"yellow_taxi\"'\n",
    "database = \"testes_data_engineering\"\n",
    "password = \"root\"\n",
    "user = \"root\""
   ]
  },
  {
   "cell_type": "code",
   "execution_count": 15,
   "id": "d59ac332",
   "metadata": {},
   "outputs": [],
   "source": [
    "def download_parquets(taxi_type: str, year: int):\n",
    "    \"\"\"\n",
    "    Faz o download dos arquivos Parquet de viagens de táxi da NYC Taxi & Limousine Commission.\n",
    "    \n",
    "    Parâmetros:\n",
    "        taxi_type (str): Tipo de táxi (ex: \"yellow\", \"green\", \"fhv\")\n",
    "        year (int): Ano desejado (ex: 2021)\n",
    "    \"\"\"\n",
    "    url_prefix = \"https://d37ci6vzurychx.cloudfront.net/trip-data/\"\n",
    "\n",
    "    for month in range(1, 13):\n",
    "        fmonth = f\"{month:02d}\"\n",
    "        filename = f\"{taxi_type}_tripdata_{year}-{fmonth}.parquet\"\n",
    "        url = f\"{url_prefix}{filename}\"\n",
    "\n",
    "        local_prefix = f\"data/raw/{taxi_type}/{year}\"\n",
    "        local_path = os.path.join(local_prefix, filename)\n",
    "\n",
    "        os.makedirs(local_prefix, exist_ok=True)\n",
    "\n",
    "        print(f\"Downloading {url} to {local_path}\")\n",
    "        \n",
    "        try:\n",
    "            response = requests.get(url)\n",
    "            response.raise_for_status()  # Lança erro se status != 200\n",
    "            with open(local_path, \"wb\") as f:\n",
    "                f.write(response.content)\n",
    "        except requests.exceptions.RequestException as e:\n",
    "            print(f\"Erro ao baixar {url}: {e}\")"
   ]
  },
  {
   "cell_type": "code",
   "execution_count": 22,
   "id": "6214c292",
   "metadata": {},
   "outputs": [],
   "source": [
    "def ingest_on_postgres(df, table, user, pwd, db):\n",
    "    try:\n",
    "        rows_imported = 0\n",
    "        print(f'importing rows {rows_imported} to {rows_imported + df.count()}... for table {table}')\n",
    "        df.write.mode(\"overwrite\") \\\n",
    "        .format(\"jdbc\") \\\n",
    "        .option(\"url\", f\"jdbc:postgresql://localhost:5432/{db}\") \\\n",
    "        .option(\"user\", user) \\\n",
    "        .option(\"password\", pwd) \\\n",
    "        .option(\"driver\", \"org.postgresql.Driver\") \\\n",
    "        .option(\"dbtable\", table) \\\n",
    "        .save()\n",
    "        print(\"Data imported successful\")\n",
    "        rows_imported += df.count()\n",
    "    except Exception as e:\n",
    "        print(\"Data load error: \" + str(e))"
   ]
  },
  {
   "cell_type": "code",
   "execution_count": null,
   "id": "117150ac",
   "metadata": {},
   "outputs": [],
   "source": [
    "download_parquets('green', 2025)"
   ]
  },
  {
   "cell_type": "code",
   "execution_count": 19,
   "id": "abae8a82",
   "metadata": {},
   "outputs": [],
   "source": [
    "# todos os data frames possuem mesmo schema, portanto posso lê-los de uma vez\n",
    "df_green = spark.read \\\n",
    "    .parquet('data/raw/green/*/*')"
   ]
  },
  {
   "cell_type": "code",
   "execution_count": 23,
   "id": "16dc6a4b",
   "metadata": {},
   "outputs": [
    {
     "name": "stdout",
     "output_type": "stream",
     "text": [
      "importing rows 0 to 48326... for table public.\"green_taxi\"\n"
     ]
    },
    {
     "name": "stderr",
     "output_type": "stream",
     "text": [
      "                                                                                \r"
     ]
    },
    {
     "name": "stdout",
     "output_type": "stream",
     "text": [
      "Data imported successful\n"
     ]
    }
   ],
   "source": [
    "ingest_on_postgres(df_green, green_table, user, password, database)"
   ]
  }
 ],
 "metadata": {
  "kernelspec": {
   "display_name": "Python 3",
   "language": "python",
   "name": "python3"
  },
  "language_info": {
   "codemirror_mode": {
    "name": "ipython",
    "version": 3
   },
   "file_extension": ".py",
   "mimetype": "text/x-python",
   "name": "python",
   "nbconvert_exporter": "python",
   "pygments_lexer": "ipython3",
   "version": "3.10.12"
  }
 },
 "nbformat": 4,
 "nbformat_minor": 5
}
